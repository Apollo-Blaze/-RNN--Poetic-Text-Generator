{
 "cells": [
  {
   "cell_type": "markdown",
   "id": "9fa0ca2c-7705-4d46-a0fd-9273f509d84f",
   "metadata": {},
   "source": [
    "# Poetic Text Generator using RNN"
   ]
  },
  {
   "cell_type": "code",
   "execution_count": 1,
   "id": "92ec5824-9c5f-4b2f-bad9-6d874998d161",
   "metadata": {},
   "outputs": [],
   "source": [
    "import random\n",
    "import numpy as np\n",
    "import tensorflow as tf\n",
    "from tensorflow.keras.models import Sequential\n",
    "from tensorflow.keras.layers import LSTM,Dense,Activation\n",
    "from tensorflow.keras.optimizers import RMSprop"
   ]
  },
  {
   "cell_type": "code",
   "execution_count": 2,
   "id": "93bace05-2b27-4195-bb66-b311a476e95d",
   "metadata": {},
   "outputs": [],
   "source": [
    "filepath=tf.keras.utils.get_file('shakespere.txt','https://storage.googleapis.com/download.tensorflow.org/data/shakespeare.txt')\n",
    "text=open(filepath,'rb').read().decode(encoding='utf-8').lower()"
   ]
  },
  {
   "cell_type": "code",
   "execution_count": 3,
   "id": "cf9d9d43-3363-40fd-96ba-def601019008",
   "metadata": {},
   "outputs": [],
   "source": [
    "characters=sorted(set(text))"
   ]
  },
  {
   "cell_type": "code",
   "execution_count": 4,
   "id": "27f27c9e-341a-4af9-b82d-f57c1ee3c9e9",
   "metadata": {},
   "outputs": [],
   "source": [
    "char_to_index=dict((c,i) for i,c in enumerate(characters))\n",
    "index_to_char=dict((i,c) for i,c in enumerate(characters))"
   ]
  },
  {
   "cell_type": "markdown",
   "id": "d4c19ad0-7d2b-4aea-b384-140b777afdf5",
   "metadata": {},
   "source": [
    "## Creating Feature Data and Prediction Data"
   ]
  },
  {
   "cell_type": "code",
   "execution_count": 10,
   "id": "bab0a74c-8e3c-43ec-9430-75ea974fc1e7",
   "metadata": {},
   "outputs": [],
   "source": [
    "SEQ_LENGTH=50\n",
    "STEP_SIZE=3\n",
    "sentences=[]\n",
    "next_characters=[]\n",
    "for i in range(0,len(text)-SEQ_LENGTH,STEP_SIZE):\n",
    "    sentences.append(text[i:i+SEQ_LENGTH])\n",
    "    next_characters.append(text[i+SEQ_LENGTH])"
   ]
  },
  {
   "cell_type": "code",
   "execution_count": 12,
   "id": "19a67d9e-ecd0-4372-a0fd-ec766636bbd7",
   "metadata": {},
   "outputs": [],
   "source": [
    "x=np.zeros((len(sentences),SEQ_LENGTH,len(characters)),dtype=bool)\n",
    "y=np.zeros((len(sentences),len(characters)),dtype=bool)"
   ]
  },
  {
   "cell_type": "code",
   "execution_count": 14,
   "id": "6810ffa9-b117-4aad-acfd-350d7199e18f",
   "metadata": {},
   "outputs": [],
   "source": [
    "for i, sentence in enumerate(sentences):\n",
    "    for t,character in enumerate(sentence):\n",
    "        x[i,t,char_to_index[character]]=1\n",
    "    y[i,char_to_index[next_characters[i]]]=1        "
   ]
  },
  {
   "cell_type": "markdown",
   "id": "3ae4c164-b6cd-4a23-844e-b3797d6647c5",
   "metadata": {},
   "source": [
    "## Creating Model"
   ]
  },
  {
   "cell_type": "code",
   "execution_count": 21,
   "id": "bc2c8f94-5ef2-43c6-9114-fa1286c5d55a",
   "metadata": {},
   "outputs": [],
   "source": [
    "model=Sequential()\n",
    "\n",
    "model.add(LSTM(128,input_shape=(SEQ_LENGTH,len(characters))))\n",
    "model.add(Dense(len(characters)))\n",
    "model.add(Activation('softmax'))\n",
    "\n",
    "model.compile(loss='categorical_crossentropy',optimizer=RMSprop(learning_rate=0.01))"
   ]
  },
  {
   "cell_type": "code",
   "execution_count": 23,
   "id": "a88f2211-5b48-4ddf-9201-dbcca9854b2d",
   "metadata": {},
   "outputs": [
    {
     "name": "stdout",
     "output_type": "stream",
     "text": [
      "Epoch 1/5\n",
      "\u001b[1m1453/1453\u001b[0m \u001b[32m━━━━━━━━━━━━━━━━━━━━\u001b[0m\u001b[37m\u001b[0m \u001b[1m331s\u001b[0m 226ms/step - loss: 2.2293\n",
      "Epoch 2/5\n",
      "\u001b[1m1453/1453\u001b[0m \u001b[32m━━━━━━━━━━━━━━━━━━━━\u001b[0m\u001b[37m\u001b[0m \u001b[1m326s\u001b[0m 224ms/step - loss: 1.6022\n",
      "Epoch 3/5\n",
      "\u001b[1m1453/1453\u001b[0m \u001b[32m━━━━━━━━━━━━━━━━━━━━\u001b[0m\u001b[37m\u001b[0m \u001b[1m373s\u001b[0m 218ms/step - loss: 1.5029\n",
      "Epoch 4/5\n",
      "\u001b[1m1453/1453\u001b[0m \u001b[32m━━━━━━━━━━━━━━━━━━━━\u001b[0m\u001b[37m\u001b[0m \u001b[1m307s\u001b[0m 211ms/step - loss: 1.4588\n",
      "Epoch 5/5\n",
      "\u001b[1m1453/1453\u001b[0m \u001b[32m━━━━━━━━━━━━━━━━━━━━\u001b[0m\u001b[37m\u001b[0m \u001b[1m285s\u001b[0m 186ms/step - loss: 1.4244\n"
     ]
    },
    {
     "data": {
      "text/plain": [
       "<keras.src.callbacks.history.History at 0x22d53bf73b0>"
      ]
     },
     "execution_count": 23,
     "metadata": {},
     "output_type": "execute_result"
    }
   ],
   "source": [
    "model.fit(x,y,batch_size=256,epochs=5)"
   ]
  },
  {
   "cell_type": "code",
   "execution_count": 26,
   "id": "a7d74fb9-9979-450f-95ce-425512825247",
   "metadata": {},
   "outputs": [],
   "source": [
    "model.save('poetictext.keras')"
   ]
  },
  {
   "cell_type": "code",
   "execution_count": 30,
   "id": "ec7f9543-7453-4e41-bf29-bc648c06b844",
   "metadata": {},
   "outputs": [],
   "source": [
    "def sample(preds,temperature=1.0):\n",
    "    preds=np.asarray(preds).astype('float64')\n",
    "    preds=np.log(preds)/temperature\n",
    "    exp_preds=np.exp(preds)\n",
    "    preds=exp_preds/np.sum(exp_preds)\n",
    "    probas=np.random.multinomial(1,preds,1)\n",
    "    return np.argmax(probas)"
   ]
  },
  {
   "cell_type": "code",
   "execution_count": 40,
   "id": "b589ac25-f4a3-403e-b222-f84b67f5aa2b",
   "metadata": {},
   "outputs": [],
   "source": [
    "def generate_text(length,temperature):\n",
    "    start_index=random.randint(0,len(text)-SEQ_LENGTH-1)\n",
    "    generated=''\n",
    "    sentence=text[start_index:start_index+SEQ_LENGTH]\n",
    "    generated+=sentence\n",
    "    for i in range(length):\n",
    "        x=np.zeros((1,SEQ_LENGTH,len(characters)))\n",
    "        for t,character in enumerate(sentence):\n",
    "            x[0,t,char_to_index[character]]=1\n",
    "        predictions=model.predict(x,verbose=0)[0]\n",
    "        next_index=sample(predictions,temperature)\n",
    "        next_character=index_to_char[next_index]\n",
    "\n",
    "        generated+=next_character\n",
    "        sentence=sentence[1:]+ next_character\n",
    "    return generated"
   ]
  },
  {
   "cell_type": "markdown",
   "id": "3b28fd04-c81e-4919-b957-dba2284b0436",
   "metadata": {},
   "source": [
    "## Predictions"
   ]
  },
  {
   "cell_type": "code",
   "execution_count": 42,
   "id": "0b8eb165-f998-4193-9b9b-90f0dea88683",
   "metadata": {},
   "outputs": [
    {
     "name": "stdout",
     "output_type": "stream",
     "text": [
      "have a motion much imports your good;\n",
      "whereto if you and than the lady and the strong\n",
      "and the stand and the stand in the way.\n",
      "\n",
      "king richard iii:\n",
      "and the stard and than the stronger the cause\n",
      "and than the stand and the state of the course.\n",
      "\n",
      "king edward ivi:\n",
      "and than the strange the courtest the state\n",
      "than the strange me and strange of the sea\n",
      "for th\n"
     ]
    }
   ],
   "source": [
    "print(generate_text(300,0.2))"
   ]
  },
  {
   "cell_type": "code",
   "execution_count": 43,
   "id": "d85fc90e-9896-4802-8700-0e62c01b4898",
   "metadata": {},
   "outputs": [
    {
     "name": "stdout",
     "output_type": "stream",
     "text": [
      " hopes whose growth may damage me.\n",
      "i must be marriage and reason the stands\n",
      "than the tongue and and that her wear me and\n",
      "than and hear the way the heaven of the trunk.\n",
      "\n",
      "king richard iii:\n",
      "i will hear a bear and for it is manife than\n",
      "than the courtes a words and fear it strange.\n",
      "\n",
      "menenius:\n",
      "i will be hang and that the man and your heaven\n",
      "as that be so\n"
     ]
    }
   ],
   "source": [
    "print(generate_text(300,0.4))"
   ]
  },
  {
   "cell_type": "code",
   "execution_count": 44,
   "id": "853ab064-d8a3-4919-806d-8b99af1cbe0c",
   "metadata": {},
   "outputs": [
    {
     "name": "stdout",
     "output_type": "stream",
     "text": [
      "d lords\n",
      "intend here to besiege you in your castle:\n",
      "sir, i dare the depraitor can be arm and mine;\n",
      "and widow that doling the courtest.\n",
      "and that stand in more and thy prevence\n",
      "and her duke of heaven was so point it shall not\n",
      "the hand than poor stunys from my maniers.\n",
      "\n",
      "lucentio:\n",
      "my lord of this fear manigrian to the dishous\n",
      "in her at than warwing of t\n"
     ]
    }
   ],
   "source": [
    "print(generate_text(300,0.6))"
   ]
  },
  {
   "cell_type": "code",
   "execution_count": 46,
   "id": "6d10090a-26a1-4bda-89b4-b56406986e8e",
   "metadata": {},
   "outputs": [
    {
     "name": "stdout",
     "output_type": "stream",
     "text": [
      "cils and jerusalem,\n",
      "yet not so wealthy as an engling move than conscience\n",
      "offices and featter of that is heavy speak.\n",
      "what as that ot\n",
      "my duecious prave and sholl of one obout your feedence,\n",
      "king and stame and lord hath both you here govern\n",
      "hand hath love sweet and life and spirit that and hand for\n",
      "bid arm accovencacmer with his nature i,\n",
      "even inter\n"
     ]
    }
   ],
   "source": [
    "print(generate_text(300,0.8))"
   ]
  },
  {
   "cell_type": "code",
   "execution_count": 47,
   "id": "0aa86bea-0a03-4769-a4f4-9257d4cf9a17",
   "metadata": {},
   "outputs": [
    {
     "name": "stdout",
     "output_type": "stream",
     "text": [
      " chattering tongue.\n",
      "\n",
      "biondello:\n",
      "o master, master, in it having meet;\n",
      "betterpot my made you, and you of harm to onped\n",
      "the lard, hundle laucenteies. wich and move corse,\n",
      "let him forlicmise?\n",
      "\n",
      "clown:\n",
      "but what all stunk,\n",
      "sir, for i amnered to live to more prefent.\n",
      "\n",
      "coosenentury:\n",
      "ah fear, hold tears eyes hath more esseave of whenks\n",
      "the each conmased kith\n"
     ]
    }
   ],
   "source": [
    "print(generate_text(300,1))"
   ]
  },
  {
   "cell_type": "code",
   "execution_count": 54,
   "id": "85bc8cdd-428c-4e3c-9fd6-753f3b2e31da",
   "metadata": {},
   "outputs": [
    {
     "name": "stdout",
     "output_type": "stream",
     "text": [
      "ur holding up. haste you speedily\n",
      "to angelo: if fought in the strange and hell me again.\n",
      "\n",
      "king richard ii:\n",
      "well you do and the subject and strange and down,\n",
      "and trance, but some than in the service\n",
      "and than her your bring of his son that i was so do\n",
      "and so that with lord and strange the hands with her:\n",
      "if it for it in the heaven and men to man a\n",
      "ho\n"
     ]
    }
   ],
   "source": [
    "print(generate_text(300,0.5))"
   ]
  },
  {
   "cell_type": "code",
   "execution_count": 55,
   "id": "f2926f8b-52bf-4d48-9b9f-d6d19e235787",
   "metadata": {},
   "outputs": [
    {
     "name": "stdout",
     "output_type": "stream",
     "text": [
      ", that you have contrived to take\n",
      "from rome all seemation tof down and fine,\n",
      "it is once green right the poor mann'd usice\n",
      "should not so in your mourn hath mode heaven,\n",
      "and cold out of perace of stand sweet king.\n",
      "\n",
      "meneniva:\n",
      "i have dead hand; then the ratters banish.\n",
      "\n",
      "king edward iv:\n",
      "no, that weak me? than must the wanes.\n",
      "\n",
      "second citizen:\n",
      "when i now \n"
     ]
    }
   ],
   "source": [
    "print(generate_text(300,0.7))"
   ]
  },
  {
   "cell_type": "markdown",
   "id": "f6b09773-553d-4ae1-89e9-082447cab69f",
   "metadata": {},
   "source": [
    "# End"
   ]
  }
 ],
 "metadata": {
  "kernelspec": {
   "display_name": "Python 3 (ipykernel)",
   "language": "python",
   "name": "python3"
  },
  "language_info": {
   "codemirror_mode": {
    "name": "ipython",
    "version": 3
   },
   "file_extension": ".py",
   "mimetype": "text/x-python",
   "name": "python",
   "nbconvert_exporter": "python",
   "pygments_lexer": "ipython3",
   "version": "3.12.4"
  }
 },
 "nbformat": 4,
 "nbformat_minor": 5
}
